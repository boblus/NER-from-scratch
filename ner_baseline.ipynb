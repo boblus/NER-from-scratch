{
 "cells": [
  {
   "cell_type": "code",
   "execution_count": 1,
   "metadata": {},
   "outputs": [],
   "source": [
    "#import sampling\n",
    "import os\n",
    "import pandas as pd\n",
    "import logging\n",
    "import sklearn\n",
    "from time import time\n",
    "import random\n",
    "from simpletransformers.ner import NERModel,NERArgs"
   ]
  },
  {
   "cell_type": "code",
   "execution_count": 3,
   "metadata": {},
   "outputs": [],
   "source": [
    "config_class_features = read_data(\"config/config-class-features.json\")\n",
    "config_classinfo = read_data(\"config/config-classinfo.json\")\n",
    "config_numeric_fields = read_data(\"config/config-numeric-fields.json\")\n",
    "config_dynamic_units = read_data(\"config/config-dynamic-units.json\")\n",
    "pair_params = read_data(\"config/pair-params\")"
   ]
  },
  {
   "cell_type": "code",
   "execution_count": 4,
   "metadata": {},
   "outputs": [],
   "source": [
    "def get_rs_list_of_all_category():\n",
    "    \"\"\"\n",
    "    input_size: the number of items to sample\n",
    "    returns the input for simpletransformer\n",
    "    \"\"\"\n",
    "    # 读取所有catogory文件\n",
    "    path = os.getcwd()\n",
    "    files= os.listdir('./formatData') #得到文件夹下的所有文件名称\n",
    "    rs_list = []\n",
    "    for file in files: #遍历文件夹\n",
    "        file_path = os.path.join(path, 'formatData/'+file)\n",
    "        if os.path.isfile(file_path): #判断是否是文件夹，不是文件夹才打开\n",
    "            rs = sampling(file,0.2,0.6)\n",
    "            rs_list.append(rs)\n",
    "    print('num_of_all_categories',len(rs_list))\n",
    "    return rs_list\n",
    "\n",
    "def get_input_from_sampling(input_size: int):\n",
    "    \"\"\"\n",
    "    input_size: the number of items to sample\n",
    "    returns the input for simpletransformer\n",
    "    \"\"\"\n",
    "    rs_list = get_rs_list_of_all_category()\n",
    "    \n",
    "    # input_size为1表示从每一个category抽取一个样本\n",
    "    input=[]\n",
    "    index=0\n",
    "    for i in range(input_size):\n",
    "        for rs in rs_list:\n",
    "            item=rs.random_sampling()\n",
    "            attribute_list=[]\n",
    "            for key, val in item.items():\n",
    "                tmp=[index]\n",
    "                tmp.append(val)\n",
    "                tmp.append(key)\n",
    "                attribute_list.append(tmp)\n",
    "            index+=1\n",
    "            input.extend(attribute_list)\n",
    "    print('样本数量：',index)\n",
    "    return input\n",
    "# get_input_from_sampling(1)"
   ]
  },
  {
   "cell_type": "code",
   "execution_count": 5,
   "metadata": {},
   "outputs": [
    {
     "name": "stdout",
     "output_type": "stream",
     "text": [
      "num_of_all_categories 37\n",
      "样本数量： 9620\n",
      "num_of_all_categories 37\n",
      "样本数量： 2220\n",
      "['class', 'category', 'AverageInputPower', 'OutputImpedance', 'Response', 'InputImpedance', 'VSWR', 'Width', 'PeakReflowTemperatureCel', 'SupplyVoltageMinVsup', 'PowerSupplies', 'Capacitance', 'Polarity', 'PositiveTolerance', 'OperatingTemperatureMin', 'OperatingTemperatureMax', 'RippleCurrent', 'Diameter', 'SupplyVoltageNomVsup', 'BandwidthNom', 'SurfaceMount', 'MoistureSensitivityLevel', 'IhsCategory', 'NumberofAnalogInChannels', 'AnalogInputVoltageMax', 'ConversionTimeMax', 'PackageBodyMaterial', 'JESD609Code', 'TerminalPosition', 'NegativeSupplyVoltageNom', 'SupplyVoltageNom', 'Technology', 'NoiseMax', 'ScreeningLevel', 'NegSupplyVoltageNom', 'TerminalPitch', 'BatteryFeed', 'ControlMode', 'OutputFrequencyMax', 'NegSupplyVoltageNomVsup', 'SeatedHeightMax', 'OutputCharacteristics', 'CountDirection', 'NumberofBits', 'SupplyVoltageMaxVsup', 'PackageCode', 'PackageEquivalenceCode', 'DielectricMaterial', 'TemperatureCharacteristicsCode', 'Height', 'Series', 'NegativeTolerance', 'Resistance', 'Tolerance', 'RatedPowerDissipationP', 'TemperatureCoefficient', 'SecondLastElementResistance', 'NumberofTerminals', 'ContactResistance', 'RatedVoltageAC', 'AssemblyItemName', 'Material', 'MfrPartNumber', 'InsulatorMaterial', 'CarrierType', 'DataRate', 'Length', 'OutputPowerNom', 'NumberofBands', 'AdditionalFeature', 'QualificationStatus', 'Durability', 'RatedCurrentSignal', 'ShellMaterial', 'ContactGender', 'NumberofPorts', 'ContactFinishTermination', 'InsulationDiameterMin', 'ContactFinishMating', 'TerminalForm', 'OperatingFrequencyMin', 'OperatingFrequencyMax', 'PrimaryImpedance', 'ManufacturerSeries', 'DCUnbalanceCurrentMax', 'HarmonicDistortion', 'Gain', 'PackageStyle', 'PackageShape', 'OutputCurrent1', 'IsolationVoltage', 'Approvals', 'IhsClass', 'CutoffVoltage', 'BitSize', 'uPsuCsPeripheralICsType', 'JESD30Code', 'TerminalFinish', 'NumberofRowsLoaded', 'PCBContactRowSpacing', 'IECConformance', 'MixedContacts', 'BreakoverVoltageMin', 'BreakoverVoltageMax', 'HoldingCurrentMax', 'CaseConnection', 'PowerDissipationMax', 'ForwardVoltageMaxVF', 'ReverseCurrentMax', 'RepPkReverseVoltageMax', 'Configuration', 'NumberofFunctions', 'InputOffsetVoltageMax', 'Bandwidth3dBNom', 'AverageBiasCurrentMaxIIB', 'ProgrammablePower', 'AmplifierType', 'TimePeakReflowTemperatureMaxs', 'CPUFamily', 'ClockFrequencyMax', 'DACChannels', 'DMAChannels', 'PropagationDelaytpd', 'SchmittTrigger', 'ControlType', 'MaxIol', 'SupplyVoltage1Nom', 'NumberofSignalLines', 'SupplyVoltageMax', 'SupplyVoltageMin', 'FrequencyMax', 'FrequencyStability', 'MountingFeature', 'PhaseNoise', 'Resolution', 'NumberofTransceivers', 'NumberofChannels', 'AnalogInputMax', 'SizeCode', 'FrequencyMin', 'PackageMaterial', 'MountingType', 'AttenuationFrequencydeltafMax', 'Aging', 'RatedVoltageDC', 'CircuitProtectionType', 'TotalNumberofContacts', 'ContactMaterial', 'ShellSize', 'BackshellType', 'Family', 'LoadCapacitanceCL', 'NumberofOutputs', 'TotalDose', 'CenterorCutoffFreqRngMax', 'InsertionLossMax', 'ActiveFilterType', 'LinearityErrorMaxEL', 'SampleRate', 'TemperatureGrade', 'PackingMethod', 'MaxFrequencyNomSup', 'WorkingVoltage', 'FinishThickness', 'ConnectorSupportType', 'CableTypes', 'SupplyCurrentMax', 'AdapterStyle', 'BodyLength', 'InsulationResistance', 'SubCategory', 'LoadResistance', 'PrimaryInductance', 'ETProductMin', 'Capacity', 'BatteryType', 'ExternalDataBusWidth', 'ULFlammabilityCode', 'HoldingCurrentNom', 'NumberofElements', 'ReverseRecoveryTimeMax', 'OutputCurrentMax', 'SlewRateNom', 'BiasCurrentMaxIIB25C', 'Power', 'DataTransferRateMax', 'TriggerType', 'InputConnector', 'RatedDCVoltageURdc', 'FilterType', 'OperatingFrequencyNom', 'PhysicalDimension', 'BlowCharacteristic', 'BodyBreadth', 'FilterFeature', 'CouplingType', 'ProgrammableDelayLine', 'PropDelayNomSup', 'CenterorCutoffFreqRngMin', 'NegSupplyVoltageMaxVsup', 'NegSupplyVoltageMinVsup', 'ESR', 'RatedACVoltageURac', 'CapacitorType', 'NetworkType', 'PackageHeight', 'PackageLength', 'WireSizeMin', 'WireSizeMax', 'AssociatedMilSpecs', 'MountingStyle', 'ShellFinish', 'ContactStyle', 'PowerRating', 'InsertionLoss', 'OutputVoltage1', 'BatteryChemistry', 'BatterySize', 'Speed', 'NumberOfPCBRows', 'Reliability', 'OnStateVoltageMax', 'RepetitivePeakReverseVoltage', 'DiodeElementMaterial', 'Micropower', 'OutputPolarity', 'PullupResistanceNom', 'SupplyVoltage1Min', 'NumberofSectionsMax', 'OffsetFrequency', 'ReferenceStandard', 'RatedCurrent', 'DINConformance', 'BodyShellStyle', 'TerminationType', 'LogicICType', 'CustomCapabilities', 'AnalogICOtherType', 'SupplyCurrentMaxIsup', 'BatterySupply', 'CableEntryMax', 'ChannelSeparation', 'NumberofSecondaryWinding', 'Application', 'StandardChargeCurrent', 'CrossreferenceNumber', 'MILConformance', 'PCBContactPattern', 'RMSOnstateCurrentMax', 'ROMwords', 'BoundaryScan', 'NumberofSectionsMin', 'GainToleranceMax', 'FrequencyTolerance', 'TerminalShape', 'ConnectorType', 'fmaxMin', 'Order', 'Filter', 'SwitchingFrequencyMax', 'LeadLength', 'LeadSpacing', 'DesignUse', 'ContactDesign', 'BodyDepth', 'InputVoltageNom', 'StandardChargeTime', 'WithdrawlForceMin', 'NumberOfConnectors', 'SlewRateMin', 'LowOffset', 'RAMbytes', 'Output', 'CompandingLaw', 'InputType', 'AttenuationFreqMin', 'Option', 'InputConditioning', 'PowerSupplyCurrentMaxICC', 'UsedWith', 'PlatingThickness', 'SecondaryImpedance', 'Voltage', 'MatingInformation', 'TerminalLength', 'BreakdownVoltageMin', 'OutputConnector', '3', 'PowerVariation', 'BodyLengthorDiameter', 'NumberofTrueOutputs', 'NumberofTapsSteps', 'ResistorType', 'MilitaryConnectorAccessoryName', 'ConsumerICType', 'MatingContactPitch', 'Translation', 'SupplyVoltage1Max', 'InputOutputImpedance', 'EnvironmentalCharacteristics', 'TemperatureCoefficientTracking', 'ShellSizes', 'TransformerType', 'NonrepPkForwardCurrentMax', 'AddressBusWidth', 'AttenuationFrequencydeltafMin', 'LinearCoding', 'LowBias', 'VoltageGainMin', 'NumberofInputs', 'NegativeInputVoltageMax', 'SampleandHoldTrackandHold', 'Hybrid', 'CableEntryMin', 'NumberofPoles', 'VARating', 'Weight', 'PolarizationKey', 'ContactPattern', 'OutputCurrentMin', 'CenterorCutoffFrequencyfofc', 'TanDelta', 'Multilayer', 'Construction', 'AudioType', 'InsulatorColor', 'ReadingTimeMax', 'MatingContactRowSpacing', 'TriggerDeviceType', 'CrystalResonatorType', 'CircuitFunction', 'EmptyShell', 'DielectricWithstandingVoltage', 'InsertionForceMax', 'JEDEC95Code', 'Wideband', 'TelecomICType', 'InputBitCode', 'DiodeType', 'OutputCode', 'FirstElementResistance', 'NumberofPrimaryWinding', 'TerminalType', 'HostDataTransferRateMax', 'BodyHeight', 'LeakageCurrent', 'ConverterType', 'MountingOption2', 'DifferentialOutput', 'ROMProgrammability', 'NumberofIOLines', 'ElementPowerDissipation', 'PWMChannels', 'LoadPresetInput', 'OutputBitCode', 'FrequencyCompensation', 'HarmonicsLevelMax', 'PolesandZeros', 'CarrierType2', 'OnChipMemoryType', 'DriveInterfaceStandard', 'Applications', 'NegSupplyVoltageLimitMax', 'InterfaceICType', 'ActuatorType', 'OutputFormat', 'OscillatorType', 'SameEdgeSkewMaxtskwd', 'TransferCharacteristics', 'AnalogInputVoltageMin', 'ReverseTestVoltage', 'MountingOption1', 'TurnsRatioNpNs', 'HostInterfaceStandard', 'RatedTemperature', 'BoardMountingOption', 'OutputPower', 'NumberofPhases', 'OutputVoltageMax', 'AttenuationFreqMax', 'BusCompatibility', 'AssociatedBackshellMilSpecs', 'Architecture', 'ModeofOperation', 'InputVoltageMax', 'PSRRMin', 'PositiveInputVoltageMax', 'NumberofInvertedOutputs', 'SupplyVoltageLimitMax', 'BodyDiameter', 'PackageWidth', 'RatedBreakingCapacity']\n",
      "392\n"
     ]
    },
    {
     "name": "stderr",
     "output_type": "stream",
     "text": [
      "Some weights of the model checkpoint at distilbert-base-uncased were not used when initializing DistilBertForTokenClassification: ['vocab_transform.weight', 'vocab_transform.bias', 'vocab_layer_norm.weight', 'vocab_layer_norm.bias', 'vocab_projector.weight', 'vocab_projector.bias']\n",
      "- This IS expected if you are initializing DistilBertForTokenClassification from the checkpoint of a model trained on another task or with another architecture (e.g. initializing a BertForSequenceClassification model from a BertForPreTraining model).\n",
      "- This IS NOT expected if you are initializing DistilBertForTokenClassification from the checkpoint of a model that you expect to be exactly identical (initializing a BertForSequenceClassification model from a BertForSequenceClassification model).\n",
      "Some weights of DistilBertForTokenClassification were not initialized from the model checkpoint at distilbert-base-uncased and are newly initialized: ['classifier.weight', 'classifier.bias']\n",
      "You should probably TRAIN this model on a down-stream task to be able to use it for predictions and inference.\n",
      "INFO:simpletransformers.ner.ner_model: Converting to features started.\n"
     ]
    },
    {
     "data": {
      "application/vnd.jupyter.widget-view+json": {
       "model_id": "890716e66ef243d69148907ee5b37aa3",
       "version_major": 2,
       "version_minor": 0
      },
      "text/plain": [
       "HBox(children=(FloatProgress(value=0.0, max=9620.0), HTML(value='')))"
      ]
     },
     "metadata": {},
     "output_type": "display_data"
    },
    {
     "name": "stdout",
     "output_type": "stream",
     "text": [
      "\n"
     ]
    },
    {
     "data": {
      "application/vnd.jupyter.widget-view+json": {
       "model_id": "97d53cd4967e4817b3e00f7fa4711888",
       "version_major": 2,
       "version_minor": 0
      },
      "text/plain": [
       "HBox(children=(FloatProgress(value=0.0, description='Epoch', max=1.0, style=ProgressStyle(description_width='i…"
      ]
     },
     "metadata": {},
     "output_type": "display_data"
    },
    {
     "data": {
      "application/vnd.jupyter.widget-view+json": {
       "model_id": "0e4f20b7d42e4aa4b72b4bac4dfbd368",
       "version_major": 2,
       "version_minor": 0
      },
      "text/plain": [
       "HBox(children=(FloatProgress(value=0.0, description='Running Epoch 0 of 1', max=1203.0, style=ProgressStyle(de…"
      ]
     },
     "metadata": {},
     "output_type": "display_data"
    },
    {
     "name": "stderr",
     "output_type": "stream",
     "text": [
      "D:\\anaconda\\envs\\sim_transformer\\lib\\site-packages\\torch\\optim\\lr_scheduler.py:200: UserWarning: Please also save or load the state of the optimzer when saving or loading the scheduler.\n",
      "  warnings.warn(SAVE_STATE_WARNING, UserWarning)\n"
     ]
    },
    {
     "name": "stdout",
     "output_type": "stream",
     "text": [
      "\n",
      "\n"
     ]
    },
    {
     "name": "stderr",
     "output_type": "stream",
     "text": [
      "INFO:simpletransformers.ner.ner_model: Training of distilbert model complete. Saved to D:/outputs/train_output.\n"
     ]
    },
    {
     "name": "stdout",
     "output_type": "stream",
     "text": [
      "Pytorch CPU: 2841.072289943695\n"
     ]
    },
    {
     "name": "stderr",
     "output_type": "stream",
     "text": [
      "INFO:simpletransformers.ner.ner_model: Converting to features started.\n"
     ]
    },
    {
     "data": {
      "application/vnd.jupyter.widget-view+json": {
       "model_id": "8d4ed7534049481c9e37badcb7a5a88e",
       "version_major": 2,
       "version_minor": 0
      },
      "text/plain": [
       "HBox(children=(FloatProgress(value=0.0, max=2220.0), HTML(value='')))"
      ]
     },
     "metadata": {},
     "output_type": "display_data"
    },
    {
     "name": "stdout",
     "output_type": "stream",
     "text": [
      "\n"
     ]
    },
    {
     "data": {
      "application/vnd.jupyter.widget-view+json": {
       "model_id": "6cf700cff2124f9ca5c3534438051f55",
       "version_major": 2,
       "version_minor": 0
      },
      "text/plain": [
       "HBox(children=(FloatProgress(value=0.0, description='Running Evaluation', max=278.0, style=ProgressStyle(descr…"
      ]
     },
     "metadata": {},
     "output_type": "display_data"
    },
    {
     "name": "stdout",
     "output_type": "stream",
     "text": [
      "\n"
     ]
    },
    {
     "name": "stderr",
     "output_type": "stream",
     "text": [
      "D:\\anaconda\\envs\\sim_transformer\\lib\\site-packages\\seqeval\\metrics\\v1.py:57: UndefinedMetricWarning: Precision and F-score are ill-defined and being set to 0.0 in labels with no predicted samples. Use `zero_division` parameter to control this behavior.\n",
      "  _warn_prf(average, modifier, msg_start, len(result))\n",
      "INFO:simpletransformers.ner.ner_model:{'eval_loss': 0.8367662346191543, 'precision': 0.8103668798384382, 'recall': 0.8103668798384382, 'f1_score': 0.8103668798384382}\n"
     ]
    }
   ],
   "source": [
    "def baseline_train():\n",
    "    \"\"\"\n",
    "    \n",
    "    \"\"\"\n",
    "    logging.basicConfig(level=logging.INFO)\n",
    "    transformers_logger = logging.getLogger(\"transformers\")\n",
    "    transformers_logger.setLevel(logging.WARNING)\n",
    "\n",
    "    # Creating train_df  and eval_df for demonstration\n",
    "    train_data = get_input_from_sampling(260)\n",
    "    train_df = pd.DataFrame(train_data, columns=['sentence_id', 'words', 'labels'])\n",
    "    train_df['words'] = train_df['words'].astype(str)\n",
    "\n",
    "    eval_data = get_input_from_sampling(60)\n",
    "    eval_df = pd.DataFrame(eval_data, columns=['sentence_id', 'words', 'labels'])\n",
    "    eval_df['words'] = eval_df['words'].astype(str)\n",
    "    label_list = list(pd.concat([train_df['labels'],eval_df['labels']],axis=0).drop_duplicates())\n",
    "    print(label_list)\n",
    "    print(len(label_list))\n",
    "\n",
    "    # Create a NERModel\n",
    "    model_args = NERArgs()\n",
    "    model_args.output_dir = \"D:/outputs/\"\n",
    "    model_args.classification_report = True\n",
    "    model_args.labels_list = label_list\n",
    "    model_args.use_early_stopping = True\n",
    "    model_args.early_stopping_consider_epochs = True\n",
    "    model_args.early_stopping_delta = 0.01\n",
    "    model_args.early_stopping_metric = \"mcc\"\n",
    "    model_args.early_stopping_metric_minimize = False\n",
    "    model_args.early_stopping_patience = 3\n",
    "    model_args.do_lower_case = True\n",
    "    model_args.manual_seed = 2020\n",
    "    model_args.max_seq_length = 24\n",
    "    model_args.num_train_epochs = 1\n",
    "    model_args.overwrite_output_dir = True\n",
    "    model_args.save_steps = 1000\n",
    "    model_args.tensorboard_dir = \"tensorboard_dir\"\n",
    "    model_args.use_cached_eval_features = True\n",
    "    \n",
    "    model = NERModel(model_type='distilbert', model_name='distilbert-base-uncased', args=model_args,use_cuda=False)\n",
    "\n",
    "    # Train the model\n",
    "    start = time()\n",
    "    model.train_model(train_df, output_dir = \"D:/outputs/train_output\",show_running_loss=True, eval_data=eval_df)\n",
    "    end = time()\n",
    "    print(f\"Pytorch CPU: {end - start}\")\n",
    "    \n",
    "    # Evaluate the model\n",
    "    result, model_outputs, preds_list = model.eval_model(eval_df, output_dir = \"D:/outputs/eval_output\",verbose=True)\n",
    "\n",
    "    return model, result, model_outputs, preds_list\n",
    "\n",
    "model, result, model_outputs, preds_list = baseline_train()"
   ]
  },
  {
   "cell_type": "code",
   "execution_count": 6,
   "metadata": {},
   "outputs": [
    {
     "data": {
      "text/plain": [
       "{'eval_loss': 0.8367662346191543,\n",
       " 'precision': 0.8103668798384382,\n",
       " 'recall': 0.8103668798384382,\n",
       " 'f1_score': 0.8103668798384382}"
      ]
     },
     "execution_count": 6,
     "metadata": {},
     "output_type": "execute_result"
    }
   ],
   "source": [
    "result"
   ]
  },
  {
   "cell_type": "code",
   "execution_count": 8,
   "metadata": {},
   "outputs": [],
   "source": [
    "# pd.read_table('D:/outputs/eval_output/eval_results.txt',sep='       ')"
   ]
  },
  {
   "cell_type": "code",
   "execution_count": 9,
   "metadata": {},
   "outputs": [
    {
     "name": "stderr",
     "output_type": "stream",
     "text": [
      "INFO:simpletransformers.ner.ner_model: Converting to features started.\n"
     ]
    },
    {
     "name": "stdout",
     "output_type": "stream",
     "text": [
      "num_of_all_categories 37\n",
      "               output_truth              input\n",
      "0                     class  Consumer Circuits\n",
      "1                  category  Audio Control ICs\n",
      "2         ChannelSeparation               65.0\n",
      "3               PackageCode                SOP\n",
      "4        HarmonicDistortion               7/4%\n",
      "5                      Gain               10.5\n",
      "6  MoistureSensitivityLevel                  3\n",
      "7          TerminalPosition               DUAL\n",
      "8          SupplyCurrentMax             19.175\n"
     ]
    },
    {
     "data": {
      "application/vnd.jupyter.widget-view+json": {
       "model_id": "f8f9f08ed27d41a8b52bea5f8d28a68b",
       "version_major": 2,
       "version_minor": 0
      },
      "text/plain": [
       "HBox(children=(FloatProgress(value=0.0, max=1.0), HTML(value='')))"
      ]
     },
     "metadata": {},
     "output_type": "display_data"
    },
    {
     "name": "stdout",
     "output_type": "stream",
     "text": [
      "\n"
     ]
    },
    {
     "data": {
      "application/vnd.jupyter.widget-view+json": {
       "model_id": "634fb6a14aef479f994594d6b00bffb8",
       "version_major": 2,
       "version_minor": 0
      },
      "text/plain": [
       "HBox(children=(FloatProgress(value=0.0, description='Running Prediction', max=1.0, style=ProgressStyle(descrip…"
      ]
     },
     "metadata": {},
     "output_type": "display_data"
    },
    {
     "name": "stdout",
     "output_type": "stream",
     "text": [
      "\n",
      "               input         output_pred\n",
      "0  Consumer Circuits               class\n",
      "1  Audio Control ICs            category\n",
      "2               65.0        BandwidthNom\n",
      "3                SOP         PackageCode\n",
      "4               7/4%  HarmonicDistortion\n",
      "5               10.5                Gain\n",
      "6                  3   NumberofTerminals\n",
      "7               DUAL    TerminalPosition\n",
      "8             19.175              Length\n"
     ]
    },
    {
     "data": {
      "text/html": [
       "<div>\n",
       "<style scoped>\n",
       "    .dataframe tbody tr th:only-of-type {\n",
       "        vertical-align: middle;\n",
       "    }\n",
       "\n",
       "    .dataframe tbody tr th {\n",
       "        vertical-align: top;\n",
       "    }\n",
       "\n",
       "    .dataframe thead th {\n",
       "        text-align: right;\n",
       "    }\n",
       "</style>\n",
       "<table border=\"1\" class=\"dataframe\">\n",
       "  <thead>\n",
       "    <tr style=\"text-align: right;\">\n",
       "      <th></th>\n",
       "      <th>input</th>\n",
       "      <th>output_pred</th>\n",
       "      <th>output_truth</th>\n",
       "    </tr>\n",
       "  </thead>\n",
       "  <tbody>\n",
       "    <tr>\n",
       "      <th>0</th>\n",
       "      <td>Consumer Circuits</td>\n",
       "      <td>class</td>\n",
       "      <td>class</td>\n",
       "    </tr>\n",
       "    <tr>\n",
       "      <th>1</th>\n",
       "      <td>Audio Control ICs</td>\n",
       "      <td>category</td>\n",
       "      <td>category</td>\n",
       "    </tr>\n",
       "    <tr>\n",
       "      <th>2</th>\n",
       "      <td>65.0</td>\n",
       "      <td>BandwidthNom</td>\n",
       "      <td>ChannelSeparation</td>\n",
       "    </tr>\n",
       "    <tr>\n",
       "      <th>3</th>\n",
       "      <td>SOP</td>\n",
       "      <td>PackageCode</td>\n",
       "      <td>PackageCode</td>\n",
       "    </tr>\n",
       "    <tr>\n",
       "      <th>4</th>\n",
       "      <td>7/4%</td>\n",
       "      <td>HarmonicDistortion</td>\n",
       "      <td>HarmonicDistortion</td>\n",
       "    </tr>\n",
       "    <tr>\n",
       "      <th>5</th>\n",
       "      <td>10.5</td>\n",
       "      <td>Gain</td>\n",
       "      <td>Gain</td>\n",
       "    </tr>\n",
       "    <tr>\n",
       "      <th>6</th>\n",
       "      <td>3</td>\n",
       "      <td>NumberofTerminals</td>\n",
       "      <td>MoistureSensitivityLevel</td>\n",
       "    </tr>\n",
       "    <tr>\n",
       "      <th>7</th>\n",
       "      <td>DUAL</td>\n",
       "      <td>TerminalPosition</td>\n",
       "      <td>TerminalPosition</td>\n",
       "    </tr>\n",
       "    <tr>\n",
       "      <th>8</th>\n",
       "      <td>19.175</td>\n",
       "      <td>Length</td>\n",
       "      <td>SupplyCurrentMax</td>\n",
       "    </tr>\n",
       "  </tbody>\n",
       "</table>\n",
       "</div>"
      ],
      "text/plain": [
       "               input         output_pred              output_truth\n",
       "0  Consumer Circuits               class                     class\n",
       "1  Audio Control ICs            category                  category\n",
       "2               65.0        BandwidthNom         ChannelSeparation\n",
       "3                SOP         PackageCode               PackageCode\n",
       "4               7/4%  HarmonicDistortion        HarmonicDistortion\n",
       "5               10.5                Gain                      Gain\n",
       "6                  3   NumberofTerminals  MoistureSensitivityLevel\n",
       "7               DUAL    TerminalPosition          TerminalPosition\n",
       "8             19.175              Length          SupplyCurrentMax"
      ]
     },
     "execution_count": 9,
     "metadata": {},
     "output_type": "execute_result"
    }
   ],
   "source": [
    "def show_prediction_result(model):\n",
    "    \"\"\"\n",
    "    model: the trained model\n",
    "    returns the predicted result\n",
    "    \"\"\"\n",
    "    rs_list = get_rs_list_of_all_category()\n",
    "    rs = random.choice(rs_list)\n",
    "    item = rs.random_sampling()\n",
    "    truth_result = pd.DataFrame.from_dict(item,orient='index').reset_index()\n",
    "    truth_result.columns = ['output_truth','input']\n",
    "    truth_result['input'] = truth_result['input']\n",
    "    print(truth_result)\n",
    "    input_sentence = list(item.values())\n",
    "    input_sentence = [str(x) for x in input_sentence]\n",
    "    predictions, raw_outputs = model.predict([input_sentence],split_on_space= False )\n",
    "    \n",
    "    pred_dict={}\n",
    "    for item in predictions[0]:\n",
    "        pred_dict.update(item)\n",
    "    pred_result = pd.DataFrame.from_dict(pred_dict,orient='index').reset_index()\n",
    "    pred_result.columns = ['input','output_pred']\n",
    "    print(pred_result)\n",
    "    show_result = pd.merge(pred_result,truth_result,how='right',on='input')\n",
    "    return show_result\n",
    "show_prediction_result(model)"
   ]
  },
  {
   "cell_type": "code",
   "execution_count": 10,
   "metadata": {},
   "outputs": [],
   "source": [
    "# Saving the quantized model\n",
    "model.save_model(\"D:/outputs/model_folder\", model=model.model)"
   ]
  },
  {
   "cell_type": "code",
   "execution_count": null,
   "metadata": {},
   "outputs": [],
   "source": [
    "# Load the saved (quantized) model\n",
    "model = NERModel(model_type='distilbert', model_name='distilbert-base-uncased', args=model_args,use_cuda=False)"
   ]
  },
  {
   "cell_type": "code",
   "execution_count": null,
   "metadata": {},
   "outputs": [],
   "source": [
    "# 默认参数\n",
    "model_args.adam_epsilon = 1e-8\n",
    "model_args.best_model_dir = \"outputs/best_model\"\n",
    "model_args.cache_dir = \"cache_dir/\"\n",
    "model_args.dynamic_quantize = False\n",
    "model_args.encoding = None\n",
    "model_args.eval_batch_size = 8\n",
    "model_args.evaluate_during_training = False\n",
    "model_args.evaluate_during_training_silent = True\n",
    "model_args.evaluate_during_training_steps = 2000\n",
    "model_args.evaluate_during_training_verbose = False\n",
    "model_args.evaluate_each_epoch = True\n",
    "model_args.fp16 = True\n",
    "model_args.gradient_accumulation_steps = 1\n",
    "model_args.learning_rate = 4e-5\n",
    "model_args.local_rank = -1\n",
    "model_args.logging_steps = 50\n",
    "model_args.max_grad_norm = 1.0\n",
    "model_args.model_name = None\n",
    "model_args.model_type = None\n",
    "model_args.multiprocessing_chunksize = 500\n",
    "model_args.n_gpu = 1\n",
    "model_args.no_cache = False\n",
    "model_args.no_save = False\n",
    "\n",
    "model_args.quantized_model = False\n",
    "model_args.reprocess_input_data = True\n",
    "model_args.save_best_model = True\n",
    "model_args.save_eval_checkpoints = True\n",
    "model_args.save_model_every_epoch = True\n",
    "model_args.save_optimizer_and_scheduler = True\n",
    "model_args.silent = False\n",
    "model_args.thread_count = None\n",
    "model_args.train_batch_size = 8\n",
    "model_args.train_custom_parameters_only = False\n",
    "model_args.use_multiprocessing = True\n",
    "model_args.wandb_project = None\n",
    "model_args.warmup_ratio = 0.06\n",
    "model_args.warmup_steps = 0\n",
    "model_args.weight_decay = 0\n",
    "model_args.skip_special_tokens = True"
   ]
  },
  {
   "cell_type": "code",
   "execution_count": 2,
   "metadata": {},
   "outputs": [],
   "source": [
    "#!/usr/bin/env python\n",
    "# coding: utf-8\n",
    "import re\n",
    "import os\n",
    "import json\n",
    "import random\n",
    "from collections import defaultdict\n",
    "from typing import Tuple, Dict, Sequence, List, Set\n",
    "\n",
    "\n",
    "def read_data(filename: str):\n",
    "    \"\"\"\n",
    "    filename: the name of a file\n",
    "    returns the data of in the file\n",
    "    \"\"\"\n",
    "    if filename[-5:] == \".json\":\n",
    "        directory = \"formatData/\" + filename\n",
    "        with open(directory, 'r', encoding='utf-8') as file:\n",
    "            output = json.loads(file.read())\n",
    "    \n",
    "    elif filename == \"config/pair-params\":\n",
    "        directory = \"formatData/\" + filename\n",
    "        with open(directory, 'r', encoding='utf-8') as file:\n",
    "            data = file.read().split(\"\\n\\n\")\n",
    "\n",
    "        output = defaultdict()\n",
    "        for pair in data:\n",
    "            pair = pair.replace(\" \", \"\").replace(\"-\", \"\").replace(\"(\", \"\").replace(\")\", \"\").split(\"/\")\n",
    "            output[pair[0]] = pair[1]\n",
    "   \n",
    "    else:\n",
    "        raise ValueError(\"The input is not valid.\")\n",
    "    return output\n",
    "\n",
    "\n",
    "def preprocess_config_class_features(config_class_features: dict) -> dict:\n",
    "    \"\"\"\n",
    "    config_class_features: the class features of all components (in \"config/config-class-features.json\")\n",
    "    returns a preprocessed config-class-features\n",
    "    \"\"\"\n",
    "    output = defaultdict(defaultdict)\n",
    "    for component in config_class_features:\n",
    "        for label in config_class_features[component]:\n",
    "            # \"Rated (DC) Voltage (URdc)\" in config-class-features appears as \"RatedDCVoltageURdc\" in a component file\n",
    "            output[component][label] = [i.replace(\" \", \"\").replace(\"-\", \"\").replace(\"(\", \"\").replace(\")\", \"\") for i in config_class_features[component][label]]\n",
    "    return output\n",
    "\n",
    "\n",
    "def preprocess_config_numeric_fields(config_numeric_fields: list) -> list:\n",
    "    \"\"\"\n",
    "    config_numeric_fields: the numeric fields of all components (in \"config/config-numeric-fields.json\")\n",
    "    returns a preprocessed config-class-features\n",
    "    \"\"\"\n",
    "    output = []\n",
    "    for feature in config_numeric_fields:\n",
    "        # \"Rated (DC) Voltage (URdc)\" in config-numeric-fields appears as \"RatedDCVoltageURdc\" in a component file\n",
    "        output.append(feature.replace(\" \", \"\").replace(\"-\", \"\").replace(\"(\", \"\").replace(\")\", \"\"))\n",
    "    return output\n",
    "\n",
    "\n",
    "def extract_feature_value(filename: str) -> dict:\n",
    "    \"\"\"\n",
    "    filename: the name of a component file (e.g. \"Active_Filters.json\")\n",
    "    returns all the features of a component and their corresponding values \n",
    "    \"\"\"\n",
    "    features_values = defaultdict(list)\n",
    "    for item in read_data(filename):\n",
    "        for feature in item:\n",
    "            features_values[feature].append(item[feature])\n",
    "    return features_values\n",
    "\n",
    "\n",
    "def connect(sample: dict) -> str:\n",
    "    \"\"\"\n",
    "    sample: the output of sampling.random_sampling()\n",
    "    returns the concatenation of values\n",
    "    \"\"\"\n",
    "    output = ''\n",
    "    deliminter_list = ['#', ',', '/', ';', ':', '-', '_']\n",
    "    deliminter = random.sample(deliminter_list, 1)[0]\n",
    "    for key, value in sample.items():\n",
    "        if random.uniform(0, 1) > 0.9: # 10% chance to use another deliminter\n",
    "            output = output + str(value) + random.sample(deliminter_list, 1)[0]\n",
    "        else:\n",
    "            output = output + str(value) + deliminter\n",
    "    return re.sub(\"(\" + \"|\".join(deliminter_list) + \")$\", \"\", output)\n",
    "\n",
    "\n",
    "class sampling():\n",
    "    def __init__(\n",
    "        self,\n",
    "        filename: str,\n",
    "        p: float,\n",
    "        most_relevant_p: float\n",
    "    ):\n",
    "        \"\"\"\n",
    "        filename: the name of a component file (e.g. \"Active_Filters.json\")\n",
    "        p: the portion of features needs sampling\n",
    "        most_relevant_p: the portion of most relevant features in a sample\n",
    "        \"\"\"\n",
    "        self.component_name = os.path.splitext(filename)[0].replace(\"_\",\" \") # obtain the name of the component (e.g. \"Active Filters\")\n",
    "        self.config_class_features = preprocess_config_class_features(config_class_features)\n",
    "        self.config_numeric_fields = preprocess_config_numeric_fields(config_numeric_fields)\n",
    "        self.config_dynamic_units = config_dynamic_units\n",
    "        self.config_dynamic_units_keys = list(config_dynamic_units.keys())\n",
    "        self.pair_params = pair_params\n",
    "        self.pair_params_keys = list(pair_params.keys())\n",
    "        self.pair_params_values = list(pair_params.values())\n",
    "        \n",
    "        self.p = p\n",
    "        self.most_relevant_p = most_relevant_p\n",
    "\n",
    "        self.features_values = extract_feature_value(filename)\n",
    "        self.features_list = list(self.features_values.keys())\n",
    "\n",
    "        # obtain the class of the component (e.g. \"Filters\")\n",
    "        # component_name \"Array Network Resistors\" appears as \"Array/Network Resistors\" in config_classinfo\n",
    "        for key in config_classinfo:\n",
    "            if self.component_name in [item.replace(\"/\",\" \") for item in config_classinfo[key]]:\n",
    "                self.component_class = key    \n",
    "\n",
    "        self.component_config_class_features = list(config_class_features[self.component_class].keys())\n",
    "        \n",
    "        # all of the features in config-class-features are not found in component files\n",
    "        # e.g. \"Resistance Law\" is not found in Array_Network_Resistors.json\n",
    "        self.most_relevant_features_list = [i for i in list(self.config_class_features[self.component_class][\"Most Relevant\"]) if i in self.features_list]\n",
    "    \n",
    "    \n",
    "    def exist_in_pair(self, sample_features: list) -> list:\n",
    "        \"\"\"\n",
    "        sample_features: features need sampling\n",
    "        returns a new list of sample_features\n",
    "        \"\"\"\n",
    "        output = []\n",
    "        for feature in sample_features:\n",
    "            output.append(feature)\n",
    "            if feature in self.pair_params_keys:\n",
    "                if random.uniform(0, 1) < 0.9:\n",
    "                    output.append(self.pair_params[feature])\n",
    "            if feature in self.pair_params_values:\n",
    "                if random.uniform(0, 1) < 0.9:\n",
    "                    pair_params = {value: key for key, value in self.pair_params.items()}\n",
    "                    output.append(pair_params[feature])\n",
    "        return output\n",
    "\n",
    "    \n",
    "    def sample_value(self, sample_features: list):\n",
    "        \"\"\"\n",
    "        sample_features: features need sampling\n",
    "        \"\"\"\n",
    "        for feature in sample_features:\n",
    "            if feature in self.config_numeric_fields: # check if the feature is numeric\n",
    "                n = 2\n",
    "                total_numeric = 0\n",
    "                for i in range(n):\n",
    "                    value = str(random.sample(self.features_values[feature], 1)[0])\n",
    "                    numeric = re.findall(\"-*\\d+\\.?\\d*\", value)[0] # extract the numeric part of the value\n",
    "                    total_numeric += float(numeric)\n",
    "                unit = value.strip(numeric) # extract the unit of the value\n",
    "                total_numeric = total_numeric / n\n",
    "                \n",
    "                # amplify the diversity of unit (e.g. 1000Ω -> 1kΩ)\n",
    "                if unit in self.config_dynamic_units_keys:\n",
    "                    new_unit = random.sample(list(self.config_dynamic_units[unit].keys()), 1)[0]\n",
    "                    mutator = float(self.config_dynamic_units[unit][new_unit])\n",
    "                    if mutator < 1:\n",
    "                        # test if total_numeric is greater than 1/mutator (e.g. normally we do not write 8000mW)\n",
    "                        while total_numeric >= 1 / mutator: \n",
    "                            total_numeric = total_numeric * mutator\n",
    "                    if mutator > 1:\n",
    "                        # test if total_numeric is greater than the mutator (e.g. normally we do not write 8000kW)\n",
    "                        while total_numeric >= mutator: \n",
    "                            total_numeric = total_numeric / mutator\n",
    "                    self.sample[feature] = str(round(total_numeric, 3)) + new_unit\n",
    "                else:\n",
    "                    # amplify the diversity of the value (e.g. 0.25W -> 1/4W)\n",
    "                    if random.uniform(0, 1) < 0.7:\n",
    "                        self.sample[feature] = str(round(total_numeric, 3)) + unit\n",
    "                    else:\n",
    "                        self.sample[feature] = str(random.randint(1, 10)) + \"/\" + str(random.randint(1, 10)) + unit\n",
    "            else:\n",
    "                self.sample[feature] = random.sample(self.features_values[feature], 1)[0]\n",
    "    \n",
    "    \n",
    "    def random_sampling(self) -> dict:\n",
    "        \"\"\"\n",
    "        returns a sample\n",
    "        \"\"\"\n",
    "        features_list = list(set(self.features_list) - set(self.most_relevant_features_list))\n",
    "        most_relevant_features_list = self.most_relevant_features_list.copy()\n",
    "        \n",
    "        sample_size = int(len(features_list) * self.p) ## sample_size [5, 6, 7, 8]\n",
    "        most_relevant_features_size = int(sample_size * self.most_relevant_p)\n",
    "                \n",
    "        if sample_size < 1: # if sample_size is too small, set the two sizes to 1\n",
    "            sample_size = 1\n",
    "            most_relevant_features_size = 1\n",
    "            \n",
    "        self.sample = {}\n",
    "        if \"necessary\" in self.component_config_class_features: # check if the component has a necessary feature\n",
    "            sample_features = self.config_class_features[self.component_class][\"necessary\"]\n",
    "            extended_sample_features = self.exist_in_pair(sample_features)\n",
    "            self.sample_value(extended_sample_features)\n",
    "            most_relevant_features_list = list(set(most_relevant_features_list) - set(extended_sample_features))\n",
    "            sample_size -= len(sample_features)\n",
    "            most_relevant_features_size -= len(sample_features)\n",
    "            \n",
    "        if most_relevant_features_size > 0:\n",
    "            if len(most_relevant_features_list) >= most_relevant_features_size:\n",
    "                sample_features = random.sample(most_relevant_features_list, most_relevant_features_size)\n",
    "            else:\n",
    "                sample_features = random.sample(most_relevant_features_list, len(most_relevant_features_list))\n",
    "            extended_sample_features = self.exist_in_pair(sample_features)\n",
    "            self.sample_value(extended_sample_features)\n",
    "            sample_size -= most_relevant_features_size\n",
    "\n",
    "        if sample_size > 0:   \n",
    "            sample_features = random.sample(features_list, sample_size)\n",
    "            extended_sample_features = self.exist_in_pair(sample_features)\n",
    "            self.sample_value(extended_sample_features)\n",
    "            \n",
    "        output = {'class':self.component_class,'category':self.component_name}\n",
    "        output.update(self.sample)\n",
    "        return output"
   ]
  },
  {
   "cell_type": "code",
   "execution_count": null,
   "metadata": {},
   "outputs": [],
   "source": []
  }
 ],
 "metadata": {
  "kernelspec": {
   "display_name": "sim_transformer",
   "language": "python",
   "name": "sim_transformer"
  },
  "language_info": {
   "codemirror_mode": {
    "name": "ipython",
    "version": 3
   },
   "file_extension": ".py",
   "mimetype": "text/x-python",
   "name": "python",
   "nbconvert_exporter": "python",
   "pygments_lexer": "ipython3",
   "version": "3.7.3"
  }
 },
 "nbformat": 4,
 "nbformat_minor": 4
}
